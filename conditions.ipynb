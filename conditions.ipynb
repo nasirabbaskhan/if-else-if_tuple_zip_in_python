{
 "cells": [
  {
   "cell_type": "markdown",
   "metadata": {},
   "source": [
    "# if-else statement\n",
    "```\n",
    "if condition:\n",
    "  true_block\n",
    "\n",
    "else:\n",
    " false_block\n",
    "\n",
    "```\n",
    "\n",
    "### if-else comprehensive\n",
    "\n",
    "```\n",
    "true_block if condition else false_block\n",
    "\n",
    "```\n",
    "\n",
    "* if\n",
    "* if-else\n",
    "* if-elif-else"
   ]
  },
  {
   "cell_type": "code",
   "execution_count": 7,
   "metadata": {},
   "outputs": [
    {
     "name": "stdout",
     "output_type": "stream",
     "text": [
      "Pakistan Zinad bad!\n"
     ]
    }
   ],
   "source": [
    "if True:\n",
    "    print(\"Pakistan Zinad bad!\")\n",
    "else:\n",
    "    print(\"Hello Word!\")"
   ]
  },
  {
   "cell_type": "code",
   "execution_count": 8,
   "metadata": {},
   "outputs": [
    {
     "name": "stdout",
     "output_type": "stream",
     "text": [
      "Hello Word!\n"
     ]
    }
   ],
   "source": [
    "if False:\n",
    "    print(\"Pakistan Zinad bad!\")\n",
    "else:\n",
    "    print(\"Hello Word!\")"
   ]
  },
  {
   "cell_type": "code",
   "execution_count": 11,
   "metadata": {},
   "outputs": [
    {
     "name": "stdout",
     "output_type": "stream",
     "text": [
      "Pakistan Zinad bad!\n"
     ]
    }
   ],
   "source": [
    "print(\"Pakistan Zinad bad!\") if True else  print(\"Hello Word!\") # comprehensive stylr\n",
    "    \n",
    "\n",
    "   "
   ]
  },
  {
   "cell_type": "code",
   "execution_count": 10,
   "metadata": {},
   "outputs": [
    {
     "name": "stdout",
     "output_type": "stream",
     "text": [
      "Hello Word!\n"
     ]
    }
   ],
   "source": [
    "print(\"Pakistan Zinad bad!\") if False else  print(\"Hello Word!\")"
   ]
  },
  {
   "cell_type": "code",
   "execution_count": 1,
   "metadata": {},
   "outputs": [
    {
     "name": "stdout",
     "output_type": "stream",
     "text": [
      "Audi\n",
      "Bmw\n",
      "Subaru\n",
      "Toyota\n"
     ]
    }
   ],
   "source": [
    "cars= [\"audi\",\"bmw\", \"subaru\", \"toyota\"]\n",
    "for car in cars:\n",
    "    print(car.title())"
   ]
  },
  {
   "cell_type": "code",
   "execution_count": 3,
   "metadata": {},
   "outputs": [
    {
     "name": "stdout",
     "output_type": "stream",
     "text": [
      "AUDI\n",
      "BMW\n",
      "SUBARU\n",
      "TOYOTA\n"
     ]
    }
   ],
   "source": [
    "cars= [\"audi\",\"bmw\", \"subaru\", \"toyota\"]\n",
    "for car in cars:\n",
    "    print(car.upper())"
   ]
  },
  {
   "cell_type": "code",
   "execution_count": 5,
   "metadata": {},
   "outputs": [
    {
     "name": "stdout",
     "output_type": "stream",
     "text": [
      "BMW\n"
     ]
    }
   ],
   "source": [
    "cars= [\"audi\",\"bmw\", \"subaru\", \"toyota\"]\n",
    "for car in cars:\n",
    "    if car== \"bmw\":\n",
    "        print(car.upper())\n",
    "    "
   ]
  },
  {
   "cell_type": "code",
   "execution_count": 6,
   "metadata": {},
   "outputs": [
    {
     "name": "stdout",
     "output_type": "stream",
     "text": [
      "Audi\n",
      "BMW\n",
      "Subaru\n",
      "Toyota\n"
     ]
    }
   ],
   "source": [
    "cars= [\"audi\",\"bmw\", \"subaru\", \"toyota\"]\n",
    "for car in cars:\n",
    "    if car== \"bmw\":\n",
    "        print(car.upper())\n",
    "    else:\n",
    "        print(car.title())"
   ]
  },
  {
   "cell_type": "code",
   "execution_count": 23,
   "metadata": {},
   "outputs": [
    {
     "name": "stdout",
     "output_type": "stream",
     "text": [
      "Today is Friday and 6th day of week\n"
     ]
    }
   ],
   "source": [
    "n= int(input(\"please enter number:\")) # get user input as integer\n",
    "if n==1:\n",
    "    print(f\"Today is sunday and {n}st day of week\")\n",
    "elif n==2:\n",
    "    print(f\"Today is Monday and {n}nd day of week\")\n",
    "elif n==3:\n",
    "    print(f\"Today is Tuesday and {n}rd day of week\")\n",
    "elif n==4:\n",
    "    print(f\"Today is Wednesday and {n}th day of week\")\n",
    "elif n==5:\n",
    "    print(f\"Today is Thirsday and {n}th day of week\")\n",
    "elif n==6:\n",
    "    print(f\"Today is Friday and {n}th day of week\")\n",
    "elif n==7:\n",
    "    print(f\"Today is Saturday and {n}th day of week\")\n",
    "else:\n",
    "    print(\"Please enter betwwen 0 to 7 number\")\n",
    "    \n"
   ]
  },
  {
   "cell_type": "code",
   "execution_count": 34,
   "metadata": {},
   "outputs": [
    {
     "name": "stdout",
     "output_type": "stream",
     "text": [
      "Your percentage is 76.0 Now your calculated grade is: \t A\n"
     ]
    }
   ],
   "source": [
    "\n",
    "per:int | float =float (input(\"enter your percentage\"))\n",
    "grade:str | None = None\n",
    "\n",
    "if (per>=0) and (per<33):\n",
    "    grade= \"F\"\n",
    "elif (per>=33) and (per<40):\n",
    "    grade= \"E\"\n",
    "elif (per>=40) and (per<50):\n",
    "     grade= \"D\"\n",
    "elif (per>=50) and (per<60):\n",
    "     grade= \"C\"\n",
    "elif (per>=60) and (per<70):\n",
    "     grade= \"B\"\n",
    "elif (per>=70) and (per<80):\n",
    "    grade= \"A\"\n",
    "elif (per>=80) and (per<90):\n",
    "        grade= \"A+\"\n",
    "print(f\"Your percentage is {per} Now your calculated grade is: \\t {grade}\")"
   ]
  },
  {
   "cell_type": "code",
   "execution_count": null,
   "metadata": {},
   "outputs": [],
   "source": [
    "from typing import Union\n",
    "\n",
    "per:int | float =float (input(\"enter your percentage\"))\n",
    "grade:str | None = None\n",
    "\n",
    "if per>=80:\n",
    "    grade= \"A+\"\n",
    "elif per>=70: \n",
    "    grade= \"A\"\n",
    "elif per>=60:\n",
    "    grade=\"B\"\n",
    "elif per>=50:\n",
    "    grade=\"C\"\n",
    "elif per>=40:\n",
    "    grade=\"D\"\n",
    "elif per>=33:\n",
    "    grade=\"E\"\n",
    "else:\n",
    "    grade=\"F\"\n",
    "print(f\"Your percentage is {per} Now your calculated grade is: \\t {grade}\")"
   ]
  },
  {
   "cell_type": "code",
   "execution_count": 37,
   "metadata": {},
   "outputs": [
    {
     "name": "stdout",
     "output_type": "stream",
     "text": [
      "[50, 70, 87.7, 89.5, 65, 86.4, 32]\n",
      "['C', 'A', 'A+', 'A+', 'B', 'A+', 'F']\n"
     ]
    },
    {
     "data": {
      "text/plain": [
       "[(50, 'C'),\n",
       " (70, 'A'),\n",
       " (87.7, 'A+'),\n",
       " (89.5, 'A+'),\n",
       " (65, 'B'),\n",
       " (86.4, 'A+'),\n",
       " (32, 'F')]"
      ]
     },
     "execution_count": 37,
     "metadata": {},
     "output_type": "execute_result"
    }
   ],
   "source": [
    "percentage:list[float | int] = [50,70,87.7,89.5,65,86.4,32]\n",
    "grades:list[str] = []\n",
    "for per in percentage:\n",
    "    grade:str = \"\"\n",
    "    if (per>=0) and (per<33):\n",
    "        grade= \"F\"\n",
    "    elif (per>=33) and (per<40):\n",
    "        grade= \"E\"\n",
    "    elif (per>=40) and (per<50):\n",
    "        grade= \"D\"\n",
    "    elif (per>=50) and (per<60):\n",
    "        grade= \"C\"\n",
    "    elif (per>=60) and (per<70):\n",
    "        grade= \"B\"\n",
    "    elif (per>=70) and (per<80):\n",
    "        grade= \"A\"\n",
    "    elif (per>=80) and (per<90):\n",
    "        grade= \"A+\"\n",
    "    grades.append(grade)\n",
    "print(percentage)\n",
    "print(grades)\n",
    "list(zip(percentage,grades))# zip function"
   ]
  },
  {
   "cell_type": "code",
   "execution_count": 42,
   "metadata": {},
   "outputs": [
    {
     "data": {
      "text/plain": [
       "[(0, 50, 'C'),\n",
       " (1, 70, 'A'),\n",
       " (2, 87.7, 'A+'),\n",
       " (3, 89.5, 'A+'),\n",
       " (4, 65, 'B'),\n",
       " (5, 86.4, 'A+'),\n",
       " (6, 32, 'F')]"
      ]
     },
     "execution_count": 42,
     "metadata": {},
     "output_type": "execute_result"
    }
   ],
   "source": [
    "student_rool_no:list[int] = list(range(len(percentage)))\n",
    "student_rool_no\n",
    "\n",
    "\n",
    "data_base = list(zip(student_rool_no,percentage,grades))\n",
    "data_base"
   ]
  },
  {
   "cell_type": "code",
   "execution_count": 43,
   "metadata": {},
   "outputs": [
    {
     "data": {
      "text/plain": [
       "[(0, 50, 'C'),\n",
       " (1, 70, 'A'),\n",
       " (2, 87.7, 'A+'),\n",
       " (3, 89.5, 'A+'),\n",
       " (4, 65, 'B'),\n",
       " (5, 86.4, 'A+'),\n",
       " (6, 32, 'F')]"
      ]
     },
     "metadata": {},
     "output_type": "display_data"
    },
    {
     "data": {
      "text/plain": [
       "[(0, 50, 'C'),\n",
       " (1, 70, 'A'),\n",
       " (2, 87.7, 'A+'),\n",
       " (3, 89.5, 'A+'),\n",
       " (4, 65, 'B'),\n",
       " (5, 86.4, 'A+'),\n",
       " (6, 32, 'F')]"
      ]
     },
     "execution_count": 43,
     "metadata": {},
     "output_type": "execute_result"
    }
   ],
   "source": [
    "display(data_base)\n",
    "sorted(data_base)"
   ]
  },
  {
   "cell_type": "code",
   "execution_count": 45,
   "metadata": {},
   "outputs": [
    {
     "data": {
      "text/plain": [
       "[(0, 50, 'C'),\n",
       " (1, 70, 'A'),\n",
       " (2, 87.7, 'A+'),\n",
       " (3, 89.5, 'A+'),\n",
       " (4, 65, 'B'),\n",
       " (5, 86.4, 'A+'),\n",
       " (6, 32, 'F')]"
      ]
     },
     "metadata": {},
     "output_type": "display_data"
    },
    {
     "data": {
      "text/plain": [
       "[(6, 32, 'F'),\n",
       " (0, 50, 'C'),\n",
       " (4, 65, 'B'),\n",
       " (1, 70, 'A'),\n",
       " (5, 86.4, 'A+'),\n",
       " (2, 87.7, 'A+'),\n",
       " (3, 89.5, 'A+')]"
      ]
     },
     "execution_count": 45,
     "metadata": {},
     "output_type": "execute_result"
    }
   ],
   "source": [
    "display(data_base)\n",
    "sorted(data_base, key=lambda x:x[1]) # sorted on the basis of percentage in assending way"
   ]
  },
  {
   "cell_type": "code",
   "execution_count": 47,
   "metadata": {},
   "outputs": [
    {
     "data": {
      "text/plain": [
       "[(0, 50, 'C'),\n",
       " (1, 70, 'A'),\n",
       " (2, 87.7, 'A+'),\n",
       " (3, 89.5, 'A+'),\n",
       " (4, 65, 'B'),\n",
       " (5, 86.4, 'A+'),\n",
       " (6, 32, 'F')]"
      ]
     },
     "metadata": {},
     "output_type": "display_data"
    },
    {
     "data": {
      "text/plain": [
       "[(3, 89.5, 'A+'),\n",
       " (2, 87.7, 'A+'),\n",
       " (5, 86.4, 'A+'),\n",
       " (1, 70, 'A'),\n",
       " (4, 65, 'B'),\n",
       " (0, 50, 'C'),\n",
       " (6, 32, 'F')]"
      ]
     },
     "execution_count": 47,
     "metadata": {},
     "output_type": "execute_result"
    }
   ],
   "source": [
    "display(data_base)\n",
    "sorted(data_base, key=lambda x:x[1] ,reverse=True) # sorted on the basis of percentage in dessending way"
   ]
  },
  {
   "cell_type": "code",
   "execution_count": 48,
   "metadata": {},
   "outputs": [
    {
     "name": "stdout",
     "output_type": "stream",
     "text": [
      "Adding mushrooms\n",
      "Sorry we don't have frecnh fries\n",
      "Adding extra cheese\n",
      "\n",
      "finishing your making your Pizza\n"
     ]
    }
   ],
   "source": [
    "available_toppings:list[str] = [\"mushrooms\", \"olives\", \"green pappers\", \"pepperonni\", \"pineapple\", \"extra cheese\"]\n",
    "requested_toppings:list[str] = [\"mushrooms\", \"frecnh fries\", \"extra cheese\"] # use input\n",
    "for requested_topping in requested_toppings:\n",
    "    if requested_topping in available_toppings:\n",
    "        print(f\"Adding {requested_topping}\")\n",
    "    else:\n",
    "        print(f\"Sorry we don't have {requested_topping}\")\n",
    "print(\"\\nfinishing your making your Pizza\")"
   ]
  },
  {
   "cell_type": "code",
   "execution_count": 51,
   "metadata": {},
   "outputs": [
    {
     "name": "stdout",
     "output_type": "stream",
     "text": [
      "Adding pineapple\n",
      "Adding extra cheese\n",
      "Sorry we don't have nasir\n",
      "\n",
      "finishing your making your Pizza\n"
     ]
    }
   ],
   "source": [
    "available_toppings:list[str] = [\"mushrooms\", \"olives\", \"green pappers\", \"pepperonni\", \"pineapple\", \"extra cheese\"]\n",
    "requested_toppings:list[str] = input(\"enter, ',' seperated values\").split(\",\")# use input\n",
    "for requested_topping in requested_toppings:\n",
    "    if requested_topping in available_toppings:\n",
    "        print(f\"Adding {requested_topping}\")\n",
    "    else:\n",
    "        print(f\"Sorry we don't have {requested_topping}\")\n",
    "print(\"\\nfinishing your making your Pizza\")"
   ]
  },
  {
   "cell_type": "code",
   "execution_count": 58,
   "metadata": {},
   "outputs": [
    {
     "name": "stdout",
     "output_type": "stream",
     "text": [
      "sent otp to your registered number\n",
      "otp is not matched!\n"
     ]
    }
   ],
   "source": [
    "user_name:str = input(\"Please enter your Name!\")\n",
    "user_password:str = input(\"Please enter password!\")\n",
    "if (user_name==\"admin\") and (user_password==\"admin\"):\n",
    "    print(\"sent otp to your registered number\")\n",
    "    otp:str= input('Plaes sent otp')\n",
    "    if otp==\"123\":\n",
    "        print(\"wellcome to PIAIC Dashboard\")\n",
    "    else:\n",
    "        print(\"otp is not matched!\")\n",
    "else: \n",
    "    print(\"invalid user or password!\")\n",
    "    "
   ]
  }
 ],
 "metadata": {
  "kernelspec": {
   "display_name": "Python 3",
   "language": "python",
   "name": "python3"
  },
  "language_info": {
   "codemirror_mode": {
    "name": "ipython",
    "version": 3
   },
   "file_extension": ".py",
   "mimetype": "text/x-python",
   "name": "python",
   "nbconvert_exporter": "python",
   "pygments_lexer": "ipython3",
   "version": "3.12.3"
  }
 },
 "nbformat": 4,
 "nbformat_minor": 2
}
